{
 "cells": [
  {
   "cell_type": "code",
   "execution_count": 4,
   "metadata": {},
   "outputs": [
    {
     "name": "stdout",
     "output_type": "stream",
     "text": [
      "train x, y (6250, 3) (6250,)\n",
      "test x, y  (625, 3) (625,)\n",
      "trap effort train, test  (6250,) (625,)\n",
      "percentiles [ 0. 20. 40. 60. 80.]\n",
      "patrol thresholds [0. 0. 0. 0. 0.]\n",
      "shape x (6250, 3)\n",
      "shape y (6250,)\n",
      "shape train_effort (6250,)\n",
      "-------------------------------------------\n",
      "training classifiers with all train data\n",
      "-------------------------------------------\n",
      "0\n",
      "filtered data: (6250, 3). num positive labels 145\n",
      "classifier 0, threshold 0.0, num x (6250, 3)\n",
      "  train time: 0.08 seconds, score: 0.97680\n",
      "-------------------------------------------\n",
      "threshold 1 same as previous, value 0.0. skipping\n",
      "threshold 2 same as previous, value 0.0. skipping\n",
      "threshold 3 same as previous, value 0.0. skipping\n",
      "threshold 4 same as previous, value 0.0. skipping\n"
     ]
    },
    {
     "name": "stderr",
     "output_type": "stream",
     "text": [
      "/Users/catherinecui/opt/anaconda3/lib/python3.8/site-packages/sklearn/ensemble/_base.py:156: FutureWarning: `base_estimator` was renamed to `estimator` in version 1.2 and will be removed in 1.4.\n",
      "  warnings.warn(\n"
     ]
    },
    {
     "name": "stdout",
     "output_type": "stream",
     "text": [
      "train x, y (12500, 3) (12500,)\n",
      "test x, y  (625, 3) (625,)\n",
      "trap effort train, test  (12500,) (625,)\n",
      "percentiles [ 0. 20. 40. 60. 80.]\n",
      "patrol thresholds [0.         0.         0.         0.00769231 0.02941176]\n",
      "shape x (12500, 3)\n",
      "shape y (12500,)\n",
      "shape train_effort (12500,)\n",
      "-------------------------------------------\n",
      "training classifiers with all train data\n",
      "-------------------------------------------\n",
      "0\n",
      "filtered data: (12500, 3). num positive labels 206\n",
      "classifier 0, threshold 0.0, num x (12500, 3)\n",
      "  train time: 0.11 seconds, score: 0.98352\n",
      "-------------------------------------------\n",
      "threshold 1 same as previous, value 0.0. skipping\n",
      "threshold 2 same as previous, value 0.0. skipping\n",
      "0\n",
      "filtered data: (5418, 3). num positive labels 206\n",
      "classifier 3, threshold 0.007692307692307693, num x (5418, 3)\n"
     ]
    },
    {
     "name": "stderr",
     "output_type": "stream",
     "text": [
      "/Users/catherinecui/opt/anaconda3/lib/python3.8/site-packages/sklearn/ensemble/_base.py:156: FutureWarning: `base_estimator` was renamed to `estimator` in version 1.2 and will be removed in 1.4.\n",
      "  warnings.warn(\n",
      "/Users/catherinecui/opt/anaconda3/lib/python3.8/site-packages/sklearn/ensemble/_base.py:156: FutureWarning: `base_estimator` was renamed to `estimator` in version 1.2 and will be removed in 1.4.\n",
      "  warnings.warn(\n",
      "/Users/catherinecui/opt/anaconda3/lib/python3.8/site-packages/sklearn/ensemble/_base.py:156: FutureWarning: `base_estimator` was renamed to `estimator` in version 1.2 and will be removed in 1.4.\n",
      "  warnings.warn(\n"
     ]
    },
    {
     "name": "stdout",
     "output_type": "stream",
     "text": [
      "  train time: 0.06 seconds, score: 0.96198\n",
      "-------------------------------------------\n",
      "0\n",
      "filtered data: (3070, 3). num positive labels 206\n",
      "classifier 4, threshold 0.029411764705882353, num x (3070, 3)\n",
      "  train time: 0.07 seconds, score: 0.93290\n",
      "-------------------------------------------\n"
     ]
    }
   ],
   "source": [
    "# get the training data (e.g. all the data we have previously on the park), 1 num_timesteps initially, each running for 5 steps\n",
    "# train the prediction model \n",
    "# have it predict probs for the most recent timestep \n",
    "# take those probabilities and give it to singleplanner and run for 5 steps  \n",
    "# repeat\n",
    "\n",
    "from paws import data_generation, multiple_timesteps, create_dataframe, iWare, setup_data\n",
    "import numpy as np\n",
    "import pandas as pd\n",
    "\n",
    "file1 = \"GeneratedData/paws_preds.npy\"\n",
    "file2 = \"GeneratedData/paws_traps.npy\"\n",
    "file3 = \"GeneratedData/paws_prey.npy\"\n",
    "# data_generation(file1, file2, file3) \n",
    "\n",
    "def retrain_model(preds, traps):\n",
    "    df = create_dataframe(preds, traps)\n",
    "    features, labels, effort, timestamps = setup_data(df)\n",
    "    iware = iWare()\n",
    "    train_x, test_x, train_y, test_y, train_effort, test_effort = iware.train_test_split_by_year(features, labels, effort, timestamps, max(timestamps))\n",
    "    iware.train_iware(train_x, train_y, train_effort)\n",
    "    return iware\n",
    "\n",
    "def milp_traps(M, N): \n",
    "    return np.ones((M, N)) \n",
    "\n",
    "def run(file1, file2, file3):\n",
    "    # initial data stuff \n",
    "    pred_densities, trap_densities, prey_densities = np.load(file1), np.load(file2), np.load(file3)\n",
    "    df_dict = {\"Timestamps\": [], \"Label\": [], \"X\": [], \"Y\": [], \"Density\": [], \"Trap Effort\": [], \"Previous Success\": []}\n",
    "    df = pd.DataFrame(df_dict)\n",
    "\n",
    "    # how many times we retrain model and call milp_traps \n",
    "    for idx in range(2): \n",
    "        # start using the milp generated traps \n",
    "        _ = retrain_model(pred_densities, trap_densities)\n",
    "        prey_densities, pred_densities, trap_densities = multiple_timesteps(prey_densities, pred_densities, trap_densities, milp_traps(25, 25))\n",
    "    return prey_densities, pred_densities\n",
    "\n",
    "from ipywidgets import interact, IntSlider \n",
    "import matplotlib.pyplot as plt \n",
    "\n",
    "def plot_densities_at_timestep(prey_densities, pred_densities, timestep): \n",
    "    min1, max1 = np.amin(pred_densities), np.amax(pred_densities)\n",
    "    min2, max2 = np.amin(prey_densities), np.amax(prey_densities)\n",
    "    _min, _max = min(min1, min2), max(max1, max2)\n",
    "\n",
    "    fig = plt.figure() \n",
    "    ax = fig.add_subplot(2, 1, 1)\n",
    "    ax.imshow(prey_densities[:, :, timestep], cmap=plt.cm.YlGn, vmin=_min, vmax=_max)\n",
    "    ax2= fig.add_subplot(2, 1, 2)\n",
    "    ax2.imshow(pred_densities[:, :, timestep], cmap=plt.cm.YlGn, vmin=_min, vmax=_max)\n",
    "\n",
    "    plt.show() \n",
    "\n",
    "prey, pred = run(file1, file2, file3)\n",
    "\n",
    "\n",
    "\n",
    "    "
   ]
  },
  {
   "cell_type": "code",
   "execution_count": 5,
   "metadata": {},
   "outputs": [
    {
     "data": {
      "image/png": "[encoded data removed]",
      "text/plain": [
       "<Figure size 640x480 with 2 Axes>"
      ]
     },
     "metadata": {},
     "output_type": "display_data"
    }
   ],
   "source": [
    "# print(\"hakkunah\", prey.shape, pred.shape)\n",
    "plot_densities_at_timestep(prey, pred, 0)\n"
   ]
  },
  {
   "cell_type": "markdown",
   "metadata": {},
   "source": []
  },
  {
   "cell_type": "code",
   "execution_count": 6,
   "metadata": {},
   "outputs": [
    {
     "data": {
      "application/vnd.jupyter.widget-view+json": {
       "model_id": "ae5d63060c774397a94c13904c606c75",
       "version_major": 2,
       "version_minor": 0
      },
      "text/plain": [
       "interactive(children=(IntSlider(value=0, description='timestep', max=30), Output()), _dom_classes=('widget-int…"
      ]
     },
     "metadata": {},
     "output_type": "display_data"
    },
    {
     "data": {
      "text/plain": [
       "<function __main__.plot_densities_at_timestep(prey_densities, pred_densities, timestep)>"
      ]
     },
     "execution_count": 6,
     "metadata": {},
     "output_type": "execute_result"
    }
   ],
   "source": [
    "from ipywidgets import interact, IntSlider, fixed\n",
    "import matplotlib.pyplot as plt \n",
    "\n",
    "interact(plot_densities_at_timestep, prey_densities=fixed(prey), pred_densities=fixed(pred), timestep=IntSlider(min=0, max=30, step=1, value=0))\n"
   ]
  }
 ],
 "metadata": {
  "kernelspec": {
   "display_name": "base",
   "language": "python",
   "name": "python3"
  },
  "language_info": {
   "codemirror_mode": {
    "name": "ipython",
    "version": 3
   },
   "file_extension": ".py",
   "mimetype": "text/x-python",
   "name": "python",
   "nbconvert_exporter": "python",
   "pygments_lexer": "ipython3",
   "version": "3.8.3"
  },
  "orig_nbformat": 4,
  "vscode": {
   "interpreter": {
    "hash": "365bf65fb91c106cdbd1c0bc03ff0be5109c6b4cf462d087395592db3f17fbb1"
   }
  }
 },
 "nbformat": 4,
 "nbformat_minor": 2
}
