{
 "cells": [
  {
   "cell_type": "markdown",
   "metadata": {},
   "source": [
    "# Synthetic Data Exploration\n",
    "\n",
    "In this file, I will be implementing different ecological spread models to generate synthetic geospatial population data for invasive species modeling. Per our conversation on 3/6/24, Professor Brantingham recommended that we implement the **Lotka-Volterra Model** and the **Tilman model** to understand competition between two species. I will be implementing these as a starting point."
   ]
  },
  {
   "cell_type": "markdown",
   "metadata": {},
   "source": [
    "## Spatial Lotka-Voltera Model"
   ]
  },
  {
   "cell_type": "code",
   "execution_count": 2,
   "metadata": {},
   "outputs": [],
   "source": [
    "# data generation. Based on work from https://github.com/SteevenJanny/DeepKKL/blob/master/data_generation/datagen_LotkaVolterra.py\n",
    "\n",
    "# imports\n",
    "from scipy.integrate import solve_ivp\n",
    "import numpy as np\n",
    "from tqdm import tqdm\n",
    "import random \n",
    "\n",
    "#Constants: Simulation Parameters\n",
    "ALPHA = 2 / 3\n",
    "BETA = 4 / 3\n",
    "GAMMA = 1\n",
    "DELTA = 1\n",
    "\n",
    "# Spatial Lotka Volterra Model Parameters\n",
    "D = np.array([0.2, 0.2])\n",
    "R = np.array([0.5, 0.5])\n",
    "K = np.array([10, 10])\n",
    "A = np.array([1.5, 1.5])\n",
    "G = np.zeros(2)\n",
    "\n",
    "def spatial_dynamics(t, y, n, m):\n",
    "    \"\"\"Spatial Lotka Volterra Model as defined in BRANTINGHAM's OG paper\n",
    "        D - diffusion constant\n",
    "        R - fundamental growth rate\n",
    "        K - carrying capacity\n",
    "        A - competition coefficient (how big of an impact one group's activites have on the competiting group)\n",
    "        G - decay constant\n",
    "    \"\"\"\n",
    "    delta = 1\n",
    "    # OK, so because scipy only works with 1d-arrays, we have to represent our 2d-space in a flattened, 1d representation\n",
    "    # Instead of being an array with shape (n, m, 2), we can think of it as a flattened, 1d-array\n",
    "    # To access what would be [i, j, k], we would use 2 * (n * i + j) + k.\n",
    "    out = np.zeros((2 * n * m))\n",
    "    for i in range(1, n - 1):\n",
    "        for j in range(1, m - 1):\n",
    "            k = 2 * (n * i + j)\n",
    "            # Contribution from diffusion\n",
    "            # diffusion is estimated through finite differencing method\n",
    "            # according to https://levelup.gitconnected.com/solving-2d-heat-equation-numerically-using-python-3334004aa01a\n",
    "            delta_t = (delta ** 2)/(4 * D)\n",
    "            diffusion = (D * delta_t) / (delta ** 2) * (y[k + 2:k + 4] + y[k - 2:k] + y[k + 2 * n:k + 2 * n + 2] + y[k - 2 * n:k - 2 * n + 2] - 4 * y[k:k + 2])\n",
    "            # Contribution from decay\n",
    "            decay = G * y[k:k + 2]\n",
    "\n",
    "            out[k: k + 2] = diffusion - decay\n",
    "\n",
    "            # Computing growth of both groups with respect to competition\n",
    "            growth_prey = R[0] * y[k] * (1 - y[k] / K[0] - A[0] * y[k + 1] / K[1])\n",
    "            growth_pred = R[1] * y[k + 1] * (1 - y[k + 1] / K[1] - A[1] * y[k] / K[1])\n",
    "            \n",
    "            out[k] += growth_prey\n",
    "            out[k + 1] += growth_pred\n",
    "    return out\n",
    "\n",
    "\n",
    "'''generate(): creates np file simulating multiple trajectories of Lotka Volterra's system. The args are:\n",
    "    num_traj: number of trajectories to simulate. default 200\n",
    "    len_traj: length of a trajectory (in seconds). default 25\n",
    "    pts_per_sec: number of points per second. default 40\n",
    "    save_loc: where to save created files\n",
    "'''\n",
    "def generate(num_traj=200,len_traj=50, pts_per_sec=100, save_loc='../Data/val.npy', prey_range=(1, 5), predator_range=(1, 3)):\n",
    "    n = 25\n",
    "    m = 25\n",
    "    dataset = np.zeros((num_traj, n * m * 2, len_traj * pts_per_sec))  # That will store each simulation\n",
    "    t_span = [0, len_traj]\n",
    "    t_eval = np.linspace(0, len_traj, len_traj * pts_per_sec)  # Time vector\n",
    "\n",
    "    # Change this line to configure how much you downsample the data, and the final time range\n",
    "    downsample_rate = int(len(t_eval) / (len_traj * pts_per_sec))\n",
    "    idx = np.arange(0, len(t_eval), downsample_rate)\n",
    "\n",
    "    # Generate random initial values for prey and predator populations within the specified ranges\n",
    "    y0 = np.zeros((n * m * 2))\n",
    "\n",
    "    # Generating inital points for both populations\n",
    "    for _ in range(3):\n",
    "        # Prey\n",
    "        i = np.random.randint(1, n - 1)\n",
    "        j = np.random.randint(1, m - 1)\n",
    "        y0[2 * (n * i + j)] = 5\n",
    "    for _ in range(3):\n",
    "        # Pred\n",
    "        i = np.random.randint(1, n - 1)\n",
    "        j = np.random.randint(1, m - 1)\n",
    "        y0[2 * (n * i + j) + 1] = 5\n",
    "\n",
    "    # sol.y has shape (2 * n * m, 2500) with one row representing the prey(t) function and the other representing the predator(t)function \n",
    "    sol = solve_ivp(spatial_dynamics, y0=y0, t_span=t_span, t_eval=t_eval, args=(n, m))\n",
    "\n",
    "    np.save(save_loc, sol.y)\n",
    "\n",
    "generate()"
   ]
  },
  {
   "cell_type": "code",
   "execution_count": 4,
   "metadata": {},
   "outputs": [
    {
     "name": "stdout",
     "output_type": "stream",
     "text": [
      "Starting interactive plot...\n"
     ]
    },
    {
     "data": {
      "application/vnd.jupyter.widget-view+json": {
       "model_id": "369b433f24054a75be1d30cd75a58a1e",
       "version_major": 2,
       "version_minor": 0
      },
      "text/plain": [
       "interactive(children=(Text(value='../Data/val.npy', description='file_loc'), IntSlider(value=0, description='t…"
      ]
     },
     "metadata": {},
     "output_type": "display_data"
    },
    {
     "name": "stdout",
     "output_type": "stream",
     "text": [
      "Interactive plot finished.\n"
     ]
    }
   ],
   "source": [
    "import matplotlib.pyplot as plt\n",
    "import numpy as np\n",
    "from ipywidgets import interact, IntSlider\n",
    "\n",
    "def plot_predator_locations(grid, timestep):\n",
    "    #Get the min and max of all your data\n",
    "    _min, _max = np.amin(grid), np.amax(grid)\n",
    "\n",
    "    fig = plt.figure()\n",
    "    ax = fig.add_subplot(2, 1, 1)\n",
    "    #Add the vmin and vmax arguments to set the color scale\n",
    "    ax.imshow(grid[:, :, 0, timestep], cmap=plt.cm.YlGn, vmin = _min, vmax = _max)\n",
    "    ax2 = fig.add_subplot(2, 1, 2)\n",
    "    #Add the vmin and vmax arguments to set the color scale\n",
    "    ax2.imshow(grid[:, :, 1, timestep], cmap=plt.cm.YlGn, vmin = _min, vmax = _max)\n",
    "    plt.show()\n",
    "\n",
    "# Function to plot predator locations at a specified timestep\n",
    "def plot_predator_locations_at_timestep(file_loc, timestep):\n",
    "    dataset = np.load(file_loc)\n",
    "    data = dataset.reshape((25, 25, 2, 5000))\n",
    "    plot_predator_locations(data, timestep * 100)\n",
    "\n",
    "# Define the maximum timestep based on the dataset\n",
    "max_timestep = 49\n",
    "\n",
    "# Print a message before running the interactive plot\n",
    "print(\"Starting interactive plot...\")\n",
    "\n",
    "# Create an interactive slider\n",
    "interact(plot_predator_locations_at_timestep, file_loc='../Data/val.npy', timestep=IntSlider(min=0, max=max_timestep, step=1, value=0))\n",
    "\n",
    "# Print a message after the interactive plot is finished\n",
    "print(\"Interactive plot finished.\")"
   ]
  }
 ],
 "metadata": {
  "kernelspec": {
   "display_name": "base",
   "language": "python",
   "name": "python3"
  },
  "language_info": {
   "codemirror_mode": {
    "name": "ipython",
    "version": 3
   },
   "file_extension": ".py",
   "mimetype": "text/x-python",
   "name": "python",
   "nbconvert_exporter": "python",
   "pygments_lexer": "ipython3",
   "version": "3.8.3 (default, Jul  2 2020, 11:26:31) \n[Clang 10.0.0 ]"
  },
  "vscode": {
   "interpreter": {
    "hash": "365bf65fb91c106cdbd1c0bc03ff0be5109c6b4cf462d087395592db3f17fbb1"
   }
  }
 },
 "nbformat": 4,
 "nbformat_minor": 4
}
